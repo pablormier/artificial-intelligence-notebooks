{
 "cells": [
  {
   "cell_type": "markdown",
   "metadata": {},
   "source": [
    "## Biased and Unbiased Point Estimators - Sample mean and variance\n",
    "\n",
    "Suppose that we want to know how a measure of a population spreads around the mean. Given a finite population $X=\\{x_1, x_2, \\dots, x_N\\}$ of size $N$, we can can compute the variance $\\sigma^2$ of the population as follows:\n",
    "\n",
    "\n",
    "$$ \\sigma^2 = \\frac{1}{N} \\sum_{i=1}^{N} (x_i - \\mu)^2 $$\n",
    "\n",
    "where $\\mu$ is the mean of the population, defined as:\n",
    "\n",
    "$$ \\mu = \\frac{1}{N} \\sum_{i=1}^N x_i $$ \n",
    "\n",
    "Let's implement these functions:\n"
   ]
  },
  {
   "cell_type": "code",
   "execution_count": 6,
   "metadata": {
    "collapsed": false
   },
   "outputs": [],
   "source": [
    "%matplotlib inline\n",
    "import matplotlib as mpl\n",
    "import matplotlib.pyplot as plt\n",
    "mpl.style.use('ggplot')"
   ]
  },
  {
   "cell_type": "code",
   "execution_count": 7,
   "metadata": {
    "collapsed": false
   },
   "outputs": [],
   "source": [
    "def mean(x):\n",
    "    return sum(x) / len(x)\n",
    "\n",
    "def variance(x, m = None):\n",
    "    m = m or mean(x)\n",
    "    norm_squared = [(x_i - m)**2 for x_i in x]\n",
    "    return sum(norm_squared) / len(x)"
   ]
  },
  {
   "cell_type": "markdown",
   "metadata": {},
   "source": [
    "Now, let's suppose we are studing a concrete population of size $N=500000$, and we can observe every value in the population. To do so, we generate a random population and we compute the true variance and mean with the previous functions:"
   ]
  },
  {
   "cell_type": "code",
   "execution_count": 8,
   "metadata": {
    "collapsed": true
   },
   "outputs": [],
   "source": [
    "import random\n",
    "\n",
    "population_size = 500000\n",
    "population = [random.randint(0,100) for _ in range(population_size)]"
   ]
  },
  {
   "cell_type": "code",
   "execution_count": 9,
   "metadata": {
    "collapsed": false
   },
   "outputs": [
    {
     "name": "stdout",
     "output_type": "stream",
     "text": [
      "Population variance: 848.8822336842172. Population mean 49.969108\n"
     ]
    }
   ],
   "source": [
    "true_variance = variance(population)\n",
    "true_mean = mean(population)\n",
    "print(\"Population variance: {0}. Population mean {1}\".format(true_variance, true_mean))"
   ]
  },
  {
   "cell_type": "markdown",
   "metadata": {},
   "source": [
    "However, in many real situations, the true mean and variance are not known since it is not possible to measure every value in a population. In these situations, we would like to be able to somehow _estimate_ the real parameters of the population using a sample of size $n < N$ taken from the population. How can this be accomplished?. Let's start by taking a small sample of size $n=10$ from our population and calculating the mean and variance of the sample."
   ]
  },
  {
   "cell_type": "code",
   "execution_count": 10,
   "metadata": {
    "collapsed": false
   },
   "outputs": [
    {
     "name": "stdout",
     "output_type": "stream",
     "text": [
      "Sample variance: 673.24. Sample mean: 52.6\n"
     ]
    }
   ],
   "source": [
    "small_sample = random.sample(population, 10)\n",
    "variance_sample = variance(small_sample)\n",
    "mean_sample = mean(small_sample)\n",
    "print(\"Sample variance: {0}. Sample mean: {1}\".format(variance_sample, mean_sample))"
   ]
  },
  {
   "cell_type": "markdown",
   "metadata": {},
   "source": [
    "What we did here is to estimate the population mean and variance using a sample. The sample variance is computed in the same way as the population variance but using the sample instead. This is usually denoted as $\\hat\\sigma^2$ and it is defined as:\n",
    "\n",
    "$$\\hat\\sigma^2 = \\frac{1}{n} \\sum_{i=1}^{n} (x_i - \\hat\\mu)^2 $$\n",
    "\n",
    "where $\\hat\\mu$ denotes the sample mean:\n",
    "\n",
    "$$\\hat\\mu = \\frac{1}{n} \\sum_{i=1}^n x_i $$ \n",
    "\n",
    "Can we use these values to get some insight about the true variance and mean? i.e., are the mean and the variance of the sample good estimators of the mean and variance of a population?. Well, If we had luck with our sample (and assuming that these functions are good estimators) these values should be close to the real values, but since the sample is very small, we can expect that every time we take a sample of $n=10$, the mean and variance may vary significatively. Let's see what happen if we repeat this 10 times:"
   ]
  },
  {
   "cell_type": "code",
   "execution_count": 11,
   "metadata": {
    "collapsed": false
   },
   "outputs": [
    {
     "name": "stdout",
     "output_type": "stream",
     "text": [
      "Sample variance: 967.24. Sample mean: 45.40\n",
      "Sample variance: 1172.01. Sample mean: 51.70\n",
      "Sample variance: 1237.61. Sample mean: 45.70\n",
      "Sample variance: 565.44. Sample mean: 60.40\n",
      "Sample variance: 1129.61. Sample mean: 57.30\n",
      "Sample variance: 430.89. Sample mean: 42.90\n",
      "Sample variance: 1131.16. Sample mean: 36.80\n",
      "Sample variance: 906.20. Sample mean: 51.00\n",
      "Sample variance: 696.81. Sample mean: 35.30\n",
      "Sample variance: 788.41. Sample mean: 44.30\n"
     ]
    }
   ],
   "source": [
    "for _ in range(10):\n",
    "    sample = random.sample(population, 10)\n",
    "    print(\"Sample variance: {:.2f}. Sample mean: {:.2f}\".format(variance(sample), mean(sample)))"
   ]
  },
  {
   "cell_type": "markdown",
   "metadata": {},
   "source": [
    "As can be seen, the estimations vary significatively, as expected. Intuitively, as we take bigger samples, estimations should approach to the real values. Let's compute the variance and mean with samples of size 1000"
   ]
  },
  {
   "cell_type": "code",
   "execution_count": 12,
   "metadata": {
    "collapsed": false
   },
   "outputs": [
    {
     "name": "stdout",
     "output_type": "stream",
     "text": [
      "Sample variance: 845.87. Sample mean: 50.26\n",
      "Sample variance: 857.66. Sample mean: 49.28\n",
      "Sample variance: 824.27. Sample mean: 51.23\n",
      "Sample variance: 848.96. Sample mean: 50.28\n",
      "Sample variance: 871.31. Sample mean: 49.39\n",
      "Sample variance: 815.01. Sample mean: 48.18\n",
      "Sample variance: 840.73. Sample mean: 51.15\n",
      "Sample variance: 827.03. Sample mean: 50.55\n",
      "Sample variance: 834.81. Sample mean: 50.80\n",
      "Sample variance: 838.30. Sample mean: 50.83\n"
     ]
    }
   ],
   "source": [
    "for _ in range(10):\n",
    "    sample = random.sample(population, 1000)\n",
    "    print(\"Sample variance: {:.2f}. Sample mean: {:.2f}\".format(variance(sample), mean(sample)))"
   ]
  },
  {
   "cell_type": "markdown",
   "metadata": {},
   "source": [
    "Now, the estimations are much closer to the true mean and population and vary less with different samples. However, this still does not give us much information about $\\hat\\sigma^2$ and $\\hat\\mu$. We want to answer the following question: are $\\hat\\sigma^2$ and $\\hat\\mu$ good (point) estimators for the population variance and mean respectively? i.e., if we compute many times the variance and mean for different samples of the same population using $\\hat\\sigma^2$ and $\\hat\\mu$, will we obtain, on average, the true variance and mean of the population? What we can do now is to compute the average value of the estimations for samples of different size, and see what happens:"
   ]
  },
  {
   "cell_type": "code",
   "execution_count": 13,
   "metadata": {
    "collapsed": false
   },
   "outputs": [
    {
     "name": "stdout",
     "output_type": "stream",
     "text": [
      "Sample size 2 (10000 trials). Variance: 432.52 (0.51) - Mean: 50.30 (1.01)\n",
      "Sample size 3 (10000 trials). Variance: 560.95 (0.66) - Mean: 49.75 (1.00)\n",
      "Sample size 4 (10000 trials). Variance: 639.51 (0.75) - Mean: 50.21 (1.00)\n",
      "Sample size 5 (10000 trials). Variance: 680.60 (0.80) - Mean: 50.04 (1.00)\n",
      "Sample size 6 (10000 trials). Variance: 709.21 (0.84) - Mean: 49.98 (1.00)\n",
      "Sample size 7 (10000 trials). Variance: 733.12 (0.86) - Mean: 50.17 (1.00)\n",
      "Sample size 8 (10000 trials). Variance: 746.35 (0.88) - Mean: 49.92 (1.00)\n",
      "Sample size 9 (10000 trials). Variance: 756.25 (0.89) - Mean: 49.84 (1.00)\n",
      "Sample size 10 (10000 trials). Variance: 762.13 (0.90) - Mean: 49.90 (1.00)\n",
      "Sample size 11 (10000 trials). Variance: 770.69 (0.91) - Mean: 50.01 (1.00)\n",
      "Sample size 12 (10000 trials). Variance: 774.08 (0.91) - Mean: 49.88 (1.00)\n",
      "Sample size 13 (10000 trials). Variance: 787.30 (0.93) - Mean: 49.99 (1.00)\n",
      "Sample size 14 (10000 trials). Variance: 786.62 (0.93) - Mean: 49.97 (1.00)\n",
      "Sample size 15 (10000 trials). Variance: 789.20 (0.93) - Mean: 49.97 (1.00)\n",
      "Sample size 16 (10000 trials). Variance: 796.93 (0.94) - Mean: 50.06 (1.00)\n",
      "Sample size 17 (10000 trials). Variance: 798.76 (0.94) - Mean: 49.94 (1.00)\n",
      "Sample size 18 (10000 trials). Variance: 802.97 (0.95) - Mean: 50.06 (1.00)\n",
      "Sample size 19 (10000 trials). Variance: 805.22 (0.95) - Mean: 50.01 (1.00)\n",
      "Sample size 20 (10000 trials). Variance: 807.54 (0.95) - Mean: 50.01 (1.00)\n",
      "Sample size 21 (10000 trials). Variance: 806.50 (0.95) - Mean: 49.84 (1.00)\n",
      "Sample size 22 (10000 trials). Variance: 812.73 (0.96) - Mean: 49.97 (1.00)\n",
      "Sample size 23 (10000 trials). Variance: 811.93 (0.96) - Mean: 50.02 (1.00)\n",
      "Sample size 24 (10000 trials). Variance: 809.85 (0.95) - Mean: 50.12 (1.00)\n",
      "Sample size 25 (10000 trials). Variance: 814.73 (0.96) - Mean: 50.00 (1.00)\n",
      "Sample size 26 (10000 trials). Variance: 817.03 (0.96) - Mean: 49.96 (1.00)\n",
      "Sample size 27 (10000 trials). Variance: 817.46 (0.96) - Mean: 49.99 (1.00)\n",
      "Sample size 28 (10000 trials). Variance: 816.02 (0.96) - Mean: 49.99 (1.00)\n",
      "Sample size 29 (10000 trials). Variance: 821.64 (0.97) - Mean: 50.03 (1.00)\n"
     ]
    }
   ],
   "source": [
    "sizes = range(2,30,1)\n",
    "\n",
    "def generate_samples(population, sample_size, num_samples=10000):\n",
    "    return [random.sample(population, sample_size) for _ in range(num_samples)]\n",
    "\n",
    "def expected_value(samples, function):\n",
    "    return mean(list(map(lambda x : function(x), samples)))\n",
    "\n",
    "var_ratios = []\n",
    "\n",
    "for k in sizes:\n",
    "    samples = generate_samples(population, k)\n",
    "    expected_variance = expected_value(samples, variance)\n",
    "    expected_mean = expected_value(samples, mean)\n",
    "    ratio_variance = expected_variance / true_variance\n",
    "    ratio_mean = expected_mean / true_mean\n",
    "    var_ratios.append(ratio_variance)\n",
    "    print(\"Sample size {} (10000 trials). Variance: {:.2f} ({:.2f}) - Mean: {:.2f} ({:.2f})\".format(k, expected_variance, ratio_variance, expected_mean, ratio_mean))"
   ]
  },
  {
   "cell_type": "markdown",
   "metadata": {},
   "source": [
    "As can be seen, something strange happens. On average, the estimation of the mean for samples of different size matches the real mean of the population. However, the estimation of the variance underestimates the population variance for small samples, i.e., the estimator is _biased_. Let's plot the ratio __average\\_variance / true\\_variance__:"
   ]
  },
  {
   "cell_type": "code",
   "execution_count": 14,
   "metadata": {
    "collapsed": false
   },
   "outputs": [
    {
     "data": {
      "image/png": "[encoded data removed]",
      "text/plain": [
       "<matplotlib.figure.Figure at 0x7f2f8bd8bdd8>"
      ]
     },
     "metadata": {},
     "output_type": "display_data"
    }
   ],
   "source": [
    "def plot_hist(sample_sizes, values):\n",
    "    plt.axhline(1, color='red')\n",
    "    plt.bar(sample_sizes, values, align='center')\n",
    "    x1,x2,y1,y2 = plt.axis()\n",
    "    plt.axis((x1,x2,0.4,1.1))\n",
    "    \n",
    "plot_hist(sizes, var_ratios)"
   ]
  },
  {
   "cell_type": "markdown",
   "metadata": {},
   "source": [
    "As can be seen, something is wrong with our estimation of the variance! For small samples, the value is far from 1. For example, for samples of size 2, the estimated variance is $\\hat\\sigma^2 = 0.5\\sigma^2$. As we increase the sample size, the estimation becomes better. The bars also show an interesting pattern. For samples of size 2, the value is almost 0.5. For samples of size 3, the value is 0.67, for size 4, 0.8... Concretely, the values of the bars follow $\\frac{n-1}{n}$ . Let's plot this:"
   ]
  },
  {
   "cell_type": "code",
   "execution_count": 15,
   "metadata": {
    "collapsed": false
   },
   "outputs": [
    {
     "data": {
      "text/plain": [
       "[<matplotlib.lines.Line2D at 0x7f2f8bd8b978>]"
      ]
     },
     "execution_count": 15,
     "metadata": {},
     "output_type": "execute_result"
    },
    {
     "data": {
      "image/png": "[encoded data removed]",
      "text/plain": [
       "<matplotlib.figure.Figure at 0x7f2f8bd8b940>"
      ]
     },
     "metadata": {},
     "output_type": "display_data"
    }
   ],
   "source": [
    "plot_hist(sizes, var_ratios)\n",
    "plt.plot(sizes, [(n-1)/n for n in sizes],'r-o')"
   ]
  },
  {
   "cell_type": "markdown",
   "metadata": {},
   "source": [
    "It seems that our estimator $\\hat\\sigma^2$ on average is $\\frac{n-1}{n}\\sigma^2$, i.e., the estimator is biased by a factor of $\\frac{n-1}{n}$ .  Now that we have figured this out, it is very easy to compute an unbiased estimator. We just need to multiply the result of the estimator by $\\frac{n}{n-1}$. Let's define the unbiased version of the estimator and recompute the experiment."
   ]
  },
  {
   "cell_type": "code",
   "execution_count": 16,
   "metadata": {
    "collapsed": false
   },
   "outputs": [
    {
     "data": {
      "image/png": "[encoded data removed]",
      "text/plain": [
       "<matplotlib.figure.Figure at 0x7f2f8caf4fd0>"
      ]
     },
     "metadata": {},
     "output_type": "display_data"
    }
   ],
   "source": [
    "def unbiased_variance(x):\n",
    "    return variance(x)*(len(x)/(len(x)-1))\n",
    "\n",
    "unbiased_var = [expected_value(generate_samples(population, k), unbiased_variance) for k in sizes]\n",
    "unbiased_var_ratios = list(map(lambda x : x / true_variance, unbiased_var))\n",
    "plot_hist(sizes, unbiased_var_ratios)"
   ]
  },
  {
   "cell_type": "markdown",
   "metadata": {},
   "source": [
    "Note that, since we have multiplied $\\hat\\sigma^2$ by $\\frac{n}{n-1}$ for correcting the bias, we have:\n",
    "\n",
    "$$ s^2 = \\frac{n}{n-1} \\cdot \\frac{1}{n} \\sum_{i=1}^{n} (x_i - \\hat\\mu)^2 =  \\frac{1}{n-1} \\sum_{i=1}^{n} (x_i - \\hat\\mu)^2$$\n",
    "\n",
    "Which leads to the typical formula of the unbiased estimator for the variance $s^2$.\n",
    "\n",
    "Ok, now we have the unbiased point estimator of the variance. But why $\\hat\\sigma^2$ is biased? This is related to the [concept of degrees of freedom](https://goo.gl/JYy0Rt). The problem is that, in order to estimate the variance of a sample, we used the same sample to estimate first the mean, and we used this value to estimate the variance. Thus, we used $N$ independent pieces of information to estimate the variance minus one (the estimated mean). We can check now that, if we use the true mean of the population to estimate the variance, we do not observe any bias:"
   ]
  },
  {
   "cell_type": "code",
   "execution_count": 17,
   "metadata": {
    "collapsed": false
   },
   "outputs": [
    {
     "data": {
      "image/png": "[encoded data removed]",
      "text/plain": [
       "<matplotlib.figure.Figure at 0x7f2f8caf4710>"
      ]
     },
     "metadata": {},
     "output_type": "display_data"
    }
   ],
   "source": [
    "def variance_with_true_mean(x):\n",
    "    return variance(x, true_mean)\n",
    "\n",
    "unbiased_var_true_mean = [expected_value(generate_samples(population, k), variance_with_true_mean) for k in sizes]\n",
    "plot_hist(sizes, list(map(lambda x : x / true_variance, unbiased_var_true_mean)))"
   ]
  }
 ],
 "metadata": {
  "kernelspec": {
   "display_name": "Python 3",
   "language": "python",
   "name": "python3"
  },
  "language_info": {
   "codemirror_mode": {
    "name": "ipython",
    "version": 3
   },
   "file_extension": ".py",
   "mimetype": "text/x-python",
   "name": "python",
   "nbconvert_exporter": "python",
   "pygments_lexer": "ipython3",
   "version": "3.4.4"
  }
 },
 "nbformat": 4,
 "nbformat_minor": 0
}
