{
 "cells": [
  {
   "cell_type": "markdown",
   "metadata": {},
   "source": [
    "## Biased and Unbiased Point Estimators - Sample mean and variance\n",
    "\n",
    "Suppose that we want to know how a measure of a population spreads around the mean. Given a finite population $X=\\{x_1, x_2, \\dots, x_N\\}$ of size $N$, we can can compute the variance $\\sigma^2$ of the population as follows:\n",
    "\n",
    "\n",
    "$$ \\sigma^2 = \\frac{1}{N} \\sum_{i=1}^{N} (x_i - \\mu)^2 $$\n",
    "\n",
    "where $\\mu$ is the mean of the population, defined as:\n",
    "\n",
    "$$ \\mu = \\frac{1}{N} \\sum_{i=1}^N x_i $$ \n",
    "\n",
    "Let's implement these functions:\n"
   ]
  },
  {
   "cell_type": "code",
   "execution_count": 2,
   "metadata": {
    "collapsed": false
   },
   "outputs": [],
   "source": [
    "def mean(x):\n",
    "    return sum(x) / len(x)\n",
    "\n",
    "def variance(x, m = None):\n",
    "    m = m or mean(x)\n",
    "    norm_squared = [(x_i - m)**2 for x_i in x]\n",
    "    return sum(norm_squared) / len(x)"
   ]
  },
  {
   "cell_type": "markdown",
   "metadata": {},
   "source": [
    "Now, let's suppose we are studing a concrete population of size $N=500000$, and we can observe every value in the population. To do so, we generate a random population and we compute the true variance and mean with the previous functions:"
   ]
  },
  {
   "cell_type": "code",
   "execution_count": 3,
   "metadata": {
    "collapsed": true
   },
   "outputs": [],
   "source": [
    "import random\n",
    "\n",
    "population_size = 500000\n",
    "population = [random.randint(0,100) for _ in range(population_size)]"
   ]
  },
  {
   "cell_type": "code",
   "execution_count": 4,
   "metadata": {
    "collapsed": false
   },
   "outputs": [
    {
     "name": "stdout",
     "output_type": "stream",
     "text": [
      "Population variance: 849.0465431138533. Population mean 50.034364\n"
     ]
    }
   ],
   "source": [
    "true_variance = variance(population)\n",
    "true_mean = mean(population)\n",
    "print(\"Population variance: {0}. Population mean {1}\".format(true_variance, true_mean))"
   ]
  },
  {
   "cell_type": "markdown",
   "metadata": {},
   "source": [
    "However, in many real situations, the true mean and variance are not known since it is not possible to measure every value in a population. In these situations, we would like to be able to somehow _estimate_ the real parameters of the population using a sample of size $n < N$ taken from the population. How can this be accomplished?. Let's start by taking a small sample of size $n=10$ from our population and calculating the mean and variance of the sample."
   ]
  },
  {
   "cell_type": "code",
   "execution_count": 5,
   "metadata": {
    "collapsed": false
   },
   "outputs": [
    {
     "name": "stdout",
     "output_type": "stream",
     "text": [
      "Sample variance: 449.61. Sample mean: 75.3\n"
     ]
    }
   ],
   "source": [
    "small_sample = random.sample(population, 10)\n",
    "variance_sample = variance(small_sample)\n",
    "mean_sample = mean(small_sample)\n",
    "print(\"Sample variance: {0}. Sample mean: {1}\".format(variance_sample, mean_sample))"
   ]
  },
  {
   "cell_type": "markdown",
   "metadata": {},
   "source": [
    "What we did here is to estimate the population mean and variance using a sample. The sample variance is computed in the same way as the population variance but using the sample instead. This is usually denoted as $\\hat\\sigma^2$ and it is defined as:\n",
    "\n",
    "$$\\hat\\sigma^2 = \\frac{1}{n} \\sum_{i=1}^{n} (x_i - \\hat\\mu)^2 $$\n",
    "\n",
    "where $\\hat\\mu$ denotes the sample mean:\n",
    "\n",
    "$$\\hat\\mu = \\frac{1}{n} \\sum_{i=1}^n x_i $$ \n",
    "\n",
    "Can we use these values to get some insight about the true variance and mean? i.e., are the mean and the variance of the sample good estimators of the mean and variance of a population?. Well, If we had luck with our sample (and assuming that these functions are good estimators) these values should be close to the real values, but since the sample is very small, we can expect that every time we take a sample of $n=10$, the mean and variance may vary significatively. Let's see what happen if we repeat this 10 times:"
   ]
  },
  {
   "cell_type": "code",
   "execution_count": 6,
   "metadata": {
    "collapsed": false
   },
   "outputs": [
    {
     "name": "stdout",
     "output_type": "stream",
     "text": [
      "Sample variance: 697.89. Sample mean: 51.10\n",
      "Sample variance: 518.09. Sample mean: 62.10\n",
      "Sample variance: 452.89. Sample mean: 56.90\n",
      "Sample variance: 661.69. Sample mean: 45.90\n",
      "Sample variance: 1133.84. Sample mean: 65.40\n",
      "Sample variance: 1101.40. Sample mean: 61.00\n",
      "Sample variance: 790.21. Sample mean: 56.70\n",
      "Sample variance: 629.29. Sample mean: 62.90\n",
      "Sample variance: 649.84. Sample mean: 38.40\n",
      "Sample variance: 700.96. Sample mean: 47.80\n"
     ]
    }
   ],
   "source": [
    "for _ in range(10):\n",
    "    sample = random.sample(population, 10)\n",
    "    print(\"Sample variance: {:.2f}. Sample mean: {:.2f}\".format(variance(sample), mean(sample)))"
   ]
  },
  {
   "cell_type": "markdown",
   "metadata": {},
   "source": [
    "As can be seen, the estimations vary significatively, as expected. Intuitively, as we take bigger samples, estimations should approach to the real values. Let's compute the variance and mean with samples of size 1000"
   ]
  },
  {
   "cell_type": "code",
   "execution_count": 7,
   "metadata": {
    "collapsed": false
   },
   "outputs": [
    {
     "name": "stdout",
     "output_type": "stream",
     "text": [
      "Sample variance: 829.05. Sample mean: 49.65\n",
      "Sample variance: 859.30. Sample mean: 50.68\n",
      "Sample variance: 834.25. Sample mean: 51.37\n",
      "Sample variance: 833.01. Sample mean: 51.48\n",
      "Sample variance: 843.93. Sample mean: 50.12\n",
      "Sample variance: 825.13. Sample mean: 50.48\n",
      "Sample variance: 858.68. Sample mean: 50.83\n",
      "Sample variance: 856.86. Sample mean: 49.02\n",
      "Sample variance: 822.70. Sample mean: 49.59\n",
      "Sample variance: 849.71. Sample mean: 50.87\n"
     ]
    }
   ],
   "source": [
    "for _ in range(10):\n",
    "    sample = random.sample(population, 1000)\n",
    "    print(\"Sample variance: {:.2f}. Sample mean: {:.2f}\".format(variance(sample), mean(sample)))"
   ]
  },
  {
   "cell_type": "markdown",
   "metadata": {},
   "source": [
    "Now, the estimations are much closer to the true mean and population and vary less with different samples. However, this still does not give us much information about $\\hat\\sigma^2$ and $\\hat\\mu$. We want to answer the following question: are $\\hat\\sigma^2$ and $\\hat\\mu$ good (point) estimators for the population variance and mean respectively? i.e., if we compute many times the variance and mean for different samples of the same population using $\\hat\\sigma^2$ and $\\hat\\mu$, will we obtain, on average, the true variance and mean of the population? What we can do now is to compute the average value of the estimations for samples of different size, and see what happens:"
   ]
  },
  {
   "cell_type": "code",
   "execution_count": 8,
   "metadata": {
    "collapsed": false
   },
   "outputs": [
    {
     "name": "stdout",
     "output_type": "stream",
     "text": [
      "Sample size 2 (10000 trials). Variance: 422.82 (0.50) - Mean: 50.26 (1.00)\n",
      "Sample size 3 (10000 trials). Variance: 561.24 (0.66) - Mean: 50.17 (1.00)\n",
      "Sample size 4 (10000 trials). Variance: 637.43 (0.75) - Mean: 49.79 (1.00)\n",
      "Sample size 5 (10000 trials). Variance: 678.67 (0.80) - Mean: 50.33 (1.01)\n",
      "Sample size 6 (10000 trials). Variance: 705.64 (0.83) - Mean: 49.86 (1.00)\n",
      "Sample size 7 (10000 trials). Variance: 724.01 (0.85) - Mean: 50.03 (1.00)\n",
      "Sample size 8 (10000 trials). Variance: 741.11 (0.87) - Mean: 50.10 (1.00)\n",
      "Sample size 9 (10000 trials). Variance: 754.54 (0.89) - Mean: 50.12 (1.00)\n",
      "Sample size 10 (10000 trials). Variance: 760.28 (0.90) - Mean: 50.14 (1.00)\n",
      "Sample size 11 (10000 trials). Variance: 770.26 (0.91) - Mean: 50.03 (1.00)\n",
      "Sample size 12 (10000 trials). Variance: 778.97 (0.92) - Mean: 50.15 (1.00)\n",
      "Sample size 13 (10000 trials). Variance: 786.27 (0.93) - Mean: 50.02 (1.00)\n",
      "Sample size 14 (10000 trials). Variance: 793.38 (0.93) - Mean: 49.94 (1.00)\n",
      "Sample size 15 (10000 trials). Variance: 796.73 (0.94) - Mean: 50.11 (1.00)\n",
      "Sample size 16 (10000 trials). Variance: 793.69 (0.93) - Mean: 50.11 (1.00)\n",
      "Sample size 17 (10000 trials). Variance: 799.43 (0.94) - Mean: 50.12 (1.00)\n",
      "Sample size 18 (10000 trials). Variance: 800.52 (0.94) - Mean: 49.97 (1.00)\n",
      "Sample size 19 (10000 trials). Variance: 802.29 (0.94) - Mean: 49.97 (1.00)\n",
      "Sample size 20 (10000 trials). Variance: 807.32 (0.95) - Mean: 50.06 (1.00)\n",
      "Sample size 21 (10000 trials). Variance: 809.17 (0.95) - Mean: 50.17 (1.00)\n",
      "Sample size 22 (10000 trials). Variance: 808.83 (0.95) - Mean: 49.90 (1.00)\n",
      "Sample size 23 (10000 trials). Variance: 814.61 (0.96) - Mean: 50.02 (1.00)\n",
      "Sample size 24 (10000 trials). Variance: 813.41 (0.96) - Mean: 50.04 (1.00)\n",
      "Sample size 25 (10000 trials). Variance: 813.52 (0.96) - Mean: 49.99 (1.00)\n",
      "Sample size 26 (10000 trials). Variance: 817.89 (0.96) - Mean: 49.97 (1.00)\n",
      "Sample size 27 (10000 trials). Variance: 818.72 (0.96) - Mean: 50.03 (1.00)\n",
      "Sample size 28 (10000 trials). Variance: 814.36 (0.96) - Mean: 50.00 (1.00)\n",
      "Sample size 29 (10000 trials). Variance: 821.83 (0.97) - Mean: 49.99 (1.00)\n"
     ]
    }
   ],
   "source": [
    "sizes = range(2,30,1)\n",
    "\n",
    "def generate_samples(population, sample_size, num_samples=10000):\n",
    "    return [random.sample(population, sample_size) for _ in range(num_samples)]\n",
    "\n",
    "def expected_value(samples, function):\n",
    "    return mean(list(map(lambda x : function(x), samples)))\n",
    "\n",
    "var_ratios = []\n",
    "\n",
    "for k in sizes:\n",
    "    samples = generate_samples(population, k)\n",
    "    expected_variance = expected_value(samples, variance)\n",
    "    expected_mean = expected_value(samples, mean)\n",
    "    ratio_variance = expected_variance / true_variance\n",
    "    ratio_mean = expected_mean / true_mean\n",
    "    var_ratios.append(ratio_variance)\n",
    "    print(\"Sample size {} (10000 trials). Variance: {:.2f} ({:.2f}) - Mean: {:.2f} ({:.2f})\".format(k, expected_variance, ratio_variance, expected_mean, ratio_mean))"
   ]
  },
  {
   "cell_type": "markdown",
   "metadata": {},
   "source": [
    "As can be seen, something strange happens. On average, the estimation of the mean for samples of different size matches the real mean of the population. However, the estimation of the variance underestimates the population variance for small samples, i.e., the estimator is _biased_. Let's plot the ratio __average\\_variance / true\\_variance__:"
   ]
  },
  {
   "cell_type": "code",
   "execution_count": 9,
   "metadata": {
    "collapsed": false
   },
   "outputs": [
    {
     "data": {
      "image/png": "[encoded data removed]",
      "text/plain": [
       "<matplotlib.figure.Figure at 0x7fccf4af9160>"
      ]
     },
     "metadata": {},
     "output_type": "display_data"
    }
   ],
   "source": [
    "%matplotlib inline\n",
    "import matplotlib.pyplot as plt\n",
    "\n",
    "def plot_hist(sample_sizes, values):\n",
    "    plt.axhline(1, color='red')\n",
    "    plt.bar(sample_sizes, values, align='center')\n",
    "    x1,x2,y1,y2 = plt.axis()\n",
    "    plt.axis((x1,x2,0.4,1.1))\n",
    "    \n",
    "plot_hist(sizes, var_ratios)"
   ]
  },
  {
   "cell_type": "markdown",
   "metadata": {},
   "source": [
    "As can be seen, something is wrong with our estimation of the variance! For small samples, the value is far from 1. For example, for samples of size 2, the estimated variance is $\\hat\\sigma^2 = 0.5\\sigma^2$. As we increase the sample size, the estimation becomes better. The bars also show an interesting pattern. For samples of size 2, the value is almost 0.5. For samples of size 3, the value is 0.67, for size 4, 0.8... Concretely, the values of the bars follow $\\frac{n-1}{n}$ . Let's plot this:"
   ]
  },
  {
   "cell_type": "code",
   "execution_count": 10,
   "metadata": {
    "collapsed": false
   },
   "outputs": [
    {
     "data": {
      "text/plain": [
       "[<matplotlib.lines.Line2D at 0x7fccd1ba3048>]"
      ]
     },
     "execution_count": 10,
     "metadata": {},
     "output_type": "execute_result"
    },
    {
     "data": {
      "image/png": "[encoded data removed]",
      "text/plain": [
       "<matplotlib.figure.Figure at 0x7fccd1ba36a0>"
      ]
     },
     "metadata": {},
     "output_type": "display_data"
    }
   ],
   "source": [
    "plot_hist(sizes, var_ratios)\n",
    "plt.plot(sizes, [(n-1)/n for n in sizes],'r-o')"
   ]
  },
  {
   "cell_type": "markdown",
   "metadata": {},
   "source": [
    "It seems that our estimator $\\hat\\sigma^2$ on average is $\\frac{n-1}{n}\\sigma^2$, i.e., the estimator is biased by a factor of $\\frac{n-1}{n}$ .  Now that we have figured this out, it is very easy to compute an unbiased estimator. We just need to multiply the result of the estimator by $\\frac{n}{n-1}$. Let's define the unbiased version of the estimator and recompute the experiment."
   ]
  },
  {
   "cell_type": "code",
   "execution_count": 11,
   "metadata": {
    "collapsed": false
   },
   "outputs": [
    {
     "data": {
      "image/png": "[encoded data removed]",
      "text/plain": [
       "<matplotlib.figure.Figure at 0x7fccd1ad4e10>"
      ]
     },
     "metadata": {},
     "output_type": "display_data"
    }
   ],
   "source": [
    "def unbiased_variance(x):\n",
    "    return variance(x)*(len(x)/(len(x)-1))\n",
    "\n",
    "unbiased_var = [expected_value(generate_samples(population, k), unbiased_variance) for k in sizes]\n",
    "unbiased_var_ratios = list(map(lambda x : x / true_variance, unbiased_var))\n",
    "plot_hist(sizes, unbiased_var_ratios)"
   ]
  },
  {
   "cell_type": "markdown",
   "metadata": {},
   "source": [
    "Note that, since we have multiplied $\\hat\\sigma^2$ by $\\frac{n}{n-1}$ for correcting the bias, we have:\n",
    "\n",
    "$$ s^2 = \\frac{n}{n-1} \\cdot \\frac{1}{n} \\sum_{i=1}^{n} (x_i - \\hat\\mu)^2 =  \\frac{1}{n-1} \\sum_{i=1}^{n} (x_i - \\hat\\mu)^2$$\n",
    "\n",
    "Which leads to the typical formula of the unbiased estimator for the variance $s^2$.\n",
    "\n",
    "Ok, now we have the unbiased point estimator of the variance. But why $\\hat\\sigma^2$ is biased? This is related to the [concept of degrees of freedom](https://goo.gl/JYy0Rt). The problem is that, in order to estimate the variance of a sample, we used the same sample to estimate first the mean, and we used this value to estimate the variance. Thus, we used $N$ independent pieces of information to estimate the variance minus one (the estimated mean). We can check now that, if we use the true mean of the population to estimate the variance, we do not observe any bias:"
   ]
  },
  {
   "cell_type": "code",
   "execution_count": 12,
   "metadata": {
    "collapsed": false
   },
   "outputs": [
    {
     "data": {
      "image/png": "[encoded data removed]",
      "text/plain": [
       "<matplotlib.figure.Figure at 0x7fccd1a8ef60>"
      ]
     },
     "metadata": {},
     "output_type": "display_data"
    }
   ],
   "source": [
    "def variance_with_true_mean(x):\n",
    "    return variance(x, true_mean)\n",
    "\n",
    "unbiased_var_true_mean = [expected_value(generate_samples(population, k), variance_with_true_mean) for k in sizes]\n",
    "plot_hist(sizes, list(map(lambda x : x / true_variance, unbiased_var_true_mean)))"
   ]
  }
 ],
 "metadata": {
  "kernelspec": {
   "display_name": "Python 3",
   "language": "python",
   "name": "python3"
  },
  "language_info": {
   "codemirror_mode": {
    "name": "ipython",
    "version": 3
   },
   "file_extension": ".py",
   "mimetype": "text/x-python",
   "name": "python",
   "nbconvert_exporter": "python",
   "pygments_lexer": "ipython3",
   "version": "3.4.4"
  }
 },
 "nbformat": 4,
 "nbformat_minor": 0
}
