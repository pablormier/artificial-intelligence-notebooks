{
 "cells": [
  {
   "cell_type": "markdown",
   "metadata": {},
   "source": [
    "# Pattern Recognition and Machine Learning\n",
    "\n",
    "Notes, exercises and simulations\n",
    "\n",
    "# 1. Introduction\n",
    "\n",
    "Notes and examples"
   ]
  },
  {
   "cell_type": "markdown",
   "metadata": {},
   "source": [
    "### 1.2 Probability theory\n",
    "\n",
    "Sum rule, product rule and bayes\n",
    "\n",
    "* Sum rule: $ p(X) = \\sum_Y p(X,Y) $\n",
    "* Product rule: $ p(X,Y) = p(Y \\mid X)p(X) $, where $P(X,Y)$ is the probability of X and Y\n",
    "\n",
    "Example:"
   ]
  },
  {
   "cell_type": "code",
   "execution_count": 3,
   "metadata": {
    "collapsed": true
   },
   "outputs": [],
   "source": [
    "# Example simulating values\n",
    "# Example applying bayes (buscar en el curso de bayesian statistics)"
   ]
  },
  {
   "cell_type": "markdown",
   "metadata": {},
   "source": [
    "From discrete to continuous"
   ]
  },
  {
   "cell_type": "code",
   "execution_count": 2,
   "metadata": {
    "collapsed": true
   },
   "outputs": [],
   "source": [
    "# Example "
   ]
  },
  {
   "cell_type": "markdown",
   "metadata": {},
   "source": [
    "### 1.2.1 Probability densities\n",
    "\n",
    "\n",
    "#### Exercise 1.4. Transformation of a probability density under a nonlinear change of variable\n",
    "\n",
    "If we know . Why is this interesting?"
   ]
  },
  {
   "cell_type": "code",
   "execution_count": null,
   "metadata": {
    "collapsed": true
   },
   "outputs": [],
   "source": []
  },
  {
   "cell_type": "markdown",
   "metadata": {},
   "source": [
    "### 1.2.5 Curve fitting revisited\n",
    "#### Example\n",
    "Ejemplo creando una función con ruido gaussiano, distribución y dado x y los coeffs del modelo"
   ]
  },
  {
   "cell_type": "code",
   "execution_count": null,
   "metadata": {
    "collapsed": true
   },
   "outputs": [],
   "source": []
  }
 ],
 "metadata": {
  "kernelspec": {
   "display_name": "Python 3",
   "language": "python",
   "name": "python3"
  },
  "language_info": {
   "codemirror_mode": {
    "name": "ipython",
    "version": 3
   },
   "file_extension": ".py",
   "mimetype": "text/x-python",
   "name": "python",
   "nbconvert_exporter": "python",
   "pygments_lexer": "ipython3",
   "version": "3.4.4"
  }
 },
 "nbformat": 4,
 "nbformat_minor": 0
}
