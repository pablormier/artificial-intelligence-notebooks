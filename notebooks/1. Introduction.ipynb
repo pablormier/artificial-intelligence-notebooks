{
 "cells": [
  {
   "cell_type": "markdown",
   "metadata": {},
   "source": [
    "# Pattern Recognition and Machine Learning\n",
    "\n",
    "Notes, exercises and simulations for Chapter 1.\n",
    "Topics:\n",
    "* 1.2. Probability Theory\n",
    "* 1.5. Decision Theory\n",
    "* 1.6. Information Theory"
   ]
  },
  {
   "cell_type": "code",
   "execution_count": 3,
   "metadata": {
    "collapsed": true
   },
   "outputs": [],
   "source": [
    "%matplotlib inline\n",
    "import numpy as np\n",
    "import pandas as pd\n",
    "import matplotlib.pyplot as plt\n",
    "\n",
    "plt.style.use('ggplot')"
   ]
  },
  {
   "cell_type": "markdown",
   "metadata": {},
   "source": [
    "## 1. Introduction\n",
    "\n",
    "### 1.2. Probability theory\n",
    "\n",
    "* **Joint probability** $p(X=x_i, Y=y_j)$: given two random variables X and Y, is the probability that X and Y take a particular value $x_i$ and $y_j$.\n",
    "\n",
    "* **Marginal probability** $p(X=x_i)$: probability that the random variable X takes the value $x_i$ irrespective of the value of Y.\n",
    "\n",
    "* **Conditional probability** $p(Y=y_j \\mid X=x_j)$ conditional probability of $Y = y_j$ given $X=x_j$\n",
    "\n",
    "\n",
    "Basic rules:\n",
    "\n",
    "* **Sum rule**: $ p(X) = \\sum_Y p(X,Y) $\n",
    "* **Product rule**: $ p(X,Y) = p(Y \\mid X)p(X) $, where $P(X,Y)$ is the joint probability of X and Y\n",
    "\n",
    "\n",
    "#### EXAMPLE (with discrete random variables)\n",
    "\n",
    "Let's suppose we analyze a group of 1677 people that are either from northern or southern hemispheres **Y={north, south}** to assess the risk of having a vitamin D deficiency (low vitamin D / normal vitamin D) **X={low, normal}\n",
    "**."
   ]
  },
  {
   "cell_type": "code",
   "execution_count": 4,
   "metadata": {
    "collapsed": false
   },
   "outputs": [
    {
     "data": {
      "text/html": [
       "<div>\n",
       "<table border=\"1\" class=\"dataframe\">\n",
       "  <thead>\n",
       "    <tr style=\"text-align: right;\">\n",
       "      <th></th>\n",
       "      <th>low</th>\n",
       "      <th>normal</th>\n",
       "    </tr>\n",
       "  </thead>\n",
       "  <tbody>\n",
       "    <tr>\n",
       "      <th>north</th>\n",
       "      <td>465</td>\n",
       "      <td>382</td>\n",
       "    </tr>\n",
       "    <tr>\n",
       "      <th>south</th>\n",
       "      <td>321</td>\n",
       "      <td>509</td>\n",
       "    </tr>\n",
       "  </tbody>\n",
       "</table>\n",
       "</div>"
      ],
      "text/plain": [
       "       low  normal\n",
       "north  465     382\n",
       "south  321     509"
      ]
     },
     "execution_count": 4,
     "metadata": {},
     "output_type": "execute_result"
    }
   ],
   "source": [
    "study = pd.DataFrame({'low': [465, 321], 'normal': [382, 509]}, index = ['north', 'south'])\n",
    "study"
   ]
  },
  {
   "cell_type": "code",
   "execution_count": 5,
   "metadata": {
    "collapsed": false
   },
   "outputs": [
    {
     "data": {
      "text/plain": [
       "north    847\n",
       "south    830\n",
       "dtype: int64"
      ]
     },
     "execution_count": 5,
     "metadata": {},
     "output_type": "execute_result"
    }
   ],
   "source": [
    "study.sum(axis=1)"
   ]
  },
  {
   "cell_type": "code",
   "execution_count": 6,
   "metadata": {
    "collapsed": false
   },
   "outputs": [
    {
     "data": {
      "text/plain": [
       "1677"
      ]
     },
     "execution_count": 6,
     "metadata": {},
     "output_type": "execute_result"
    }
   ],
   "source": [
    "study.values.sum()"
   ]
  },
  {
   "cell_type": "markdown",
   "metadata": {},
   "source": [
    "##### Joint probability\n",
    "\n",
    "In the case of discrete random variables, the **joint probability** is calculated as:\n",
    "\n",
    "$$ p(X = x_i, Y = y_j) = \\frac{n_{ij}}{N}$$ \n",
    "\n",
    "Where $n_{i,j}$ is the number of points in the intersection between the column $i$ and row $j$ and $N$ is the total number of elements. \n",
    "\n",
    "Example: Suppose we pick a random person from the study. What's the probability that this person is from the *north* **and** has *low* levels of vitamin D\n",
    "\n",
    "$$ p(X=low, Y=north) = \\frac{\\textrm{Num. of north and low}}{\\textrm{Total number of people}} $$\n",
    "\n"
   ]
  },
  {
   "cell_type": "code",
   "execution_count": 7,
   "metadata": {
    "collapsed": false
   },
   "outputs": [
    {
     "data": {
      "text/plain": [
       "0.2772808586762075"
      ]
     },
     "execution_count": 7,
     "metadata": {},
     "output_type": "execute_result"
    }
   ],
   "source": [
    "study.low.north / study.values.sum()"
   ]
  },
  {
   "cell_type": "markdown",
   "metadata": {},
   "source": [
    "##### Marginal probability\n",
    "\n",
    "In the case of discrete random variables, the **marginal probability** is calculated by summing out the other variables (*marginalizing the other variables*), this is, we count over $X$ ignoring the other variables:\n",
    "\n",
    "$$ p(X = x_i) = \\sum_{j=1}^L p(X=x_i, Y=y_j)$$ \n",
    "\n",
    "\n",
    "Example: If we pick a random person from the study, what's the probability of this person having normal levels of vitamin D?\n",
    "(we don't care about the hemisphere, we marginalize Y)\n",
    "\n",
    "$$ p(X=low) = \\frac{\\textrm{Num. of people with low vit. D from north} + \\textrm{Num. of low vit.D from south}}{\\textrm{Total number of people}}  $$"
   ]
  },
  {
   "cell_type": "code",
   "execution_count": 8,
   "metadata": {
    "collapsed": false
   },
   "outputs": [
    {
     "data": {
      "text/plain": [
       "0.46869409660107336"
      ]
     },
     "execution_count": 8,
     "metadata": {},
     "output_type": "execute_result"
    }
   ],
   "source": [
    "study.low.sum() / study.values.sum()"
   ]
  },
  {
   "cell_type": "markdown",
   "metadata": {},
   "source": [
    "##### Conditional probability\n",
    "\n",
    "In the case of discrete random variables, the **conditional probability** $p(Y=y_j\\mid X=x_i)$ is the fraction of those points in column $i$ ($c_i$) that fall in the intersection between column $i$ and row $j$:\n",
    "\n",
    "$$ p(Y=y_j \\mid X=xi) = \\frac{n_{ij}}{c_i} $$\n",
    "\n",
    "Example: if we pick a random person from this study, what's the probability of this person being from the northern hemisphere if we know that he has low levels of vitamin D?\n",
    "\n",
    "$$ p(Y=north \\mid X=low) = \\frac{\\textrm{Num. of people from north with low vitamin D}}{\\textrm{Total number of people with low vitamin D}}  $$"
   ]
  },
  {
   "cell_type": "code",
   "execution_count": 9,
   "metadata": {
    "collapsed": false
   },
   "outputs": [
    {
     "data": {
      "text/plain": [
       "0.59160305343511455"
      ]
     },
     "execution_count": 9,
     "metadata": {},
     "output_type": "execute_result"
    }
   ],
   "source": [
    "study.low.north / (study.low.north + study.low.south)"
   ]
  },
  {
   "cell_type": "markdown",
   "metadata": {},
   "source": [
    "#### Sum rule\n",
    "\n"
   ]
  },
  {
   "cell_type": "markdown",
   "metadata": {
    "collapsed": false
   },
   "source": [
    "#### Product rule\n",
    "$P(X,Y) = P(Y \\mid X)P(X)$, i.e., the joint probability of X and Y can be calculated as the probability of Y given X times the probability of X. Following the previous example:\n",
    "\n",
    "Suppose we pick a random person from the study. What's the probability that this person is from the *north* **and** has *low* levels of vitamin D (using the product rule)?\n",
    "\n",
    "$$ p(X=low, Y=north) = p(Y=north \\mid X=low)p(X=low)$$"
   ]
  },
  {
   "cell_type": "markdown",
   "metadata": {},
   "source": [
    "TODO: From discrete to continuous"
   ]
  },
  {
   "cell_type": "markdown",
   "metadata": {},
   "source": [
    "### 1.2.1 Probability densities\n",
    "\n",
    "\n",
    "#### Exercise 1.4 (from the book). Transformation of a probability density under a nonlinear change of variable\n",
    "\n",
    "Let's suppose we are analyzing a random variable $x$ and we know its probability density function $p_x(x)$. Now, if we transform $x$ by means of a non-linear function $y = g(x)$, what's the probability density function of $p_y(y)$?\n",
    "\n",
    "Let's see an example first:\n",
    "\n",
    "* $p_x(x) = N(0, 0.25)$\n",
    "* $y = exp(x) \\leftrightarrow x = ln(y)$\n",
    "* $p_y(y)?$"
   ]
  },
  {
   "cell_type": "code",
   "execution_count": 40,
   "metadata": {
    "collapsed": false
   },
   "outputs": [
    {
     "data": {
      "text/plain": [
       "[<matplotlib.lines.Line2D at 0x7fa9fa1411d0>]"
      ]
     },
     "execution_count": 40,
     "metadata": {},
     "output_type": "execute_result"
    },
    {
     "data": {
      "image/png": "[encoded data removed]",
      "text/plain": [
       "<matplotlib.figure.Figure at 0x7fa9fa141e48>"
      ]
     },
     "metadata": {},
     "output_type": "display_data"
    }
   ],
   "source": [
    "fig, axs = plt.subplots(1,2, figsize=(12, 5))\n",
    "\n",
    "mu=0\n",
    "sigma = 0.25\n",
    "sigma2 = sigma**2\n",
    "\n",
    "x = np.random.normal(mu, sigma, 1000000)\n",
    "y = np.exp(x)\n",
    "\n",
    "ax1 = pd.DataFrame({'$p_x(x) = \\mathcal{N}(0, 0.25)$': x}).hist(bins=50, ax=axs[0], normed=True)\n",
    "ax2 = pd.DataFrame({'$p_y(y)$': y}).hist(bins=50, ax=axs[1], normed=True)\n",
    "\n",
    "x0 = 0\n",
    "y0 = np.exp(x0)\n",
    "\n",
    "ax1[0].plot((x0, x0), (0, 2), 'b-')\n",
    "ax2[0].plot((y0, y0), (0, 2), 'b-')"
   ]
  },
  {
   "cell_type": "markdown",
   "metadata": {},
   "source": [
    "Observations falling in the range $(x, x + \\delta_x)$ are transformed to the range $(y, y + \\delta_y)$ by means of the non linear function $y = g(x)$. The probability in the range $(x, x+\\delta_x)$ can be approximated by $p_x(x)\\delta_x$, whereas the probability of the range $(y, y+\\delta_y)$ can be approximated by $p_y(y)\\delta_y$ for small values of $\\delta_x$ and $\\delta_y$, and after the transformation we expect that $p_x(x)\\delta_x \\simeq p_y(y)\\delta_y$.\n",
    "\n",
    "Let's use for a moment the previous example. The point $x=0$ is transformed to $y=exp(0)=1$, and we can see $p_x(0)\\delta_x \\simeq p_y(1)\\delta_y$.\n",
    "\n",
    "In general, from $p_x(x)\\delta_x \\simeq p_y(y)\\delta_y$ we can calculate $p_y(y)$ since $p_x(x)$ and $y=g(x)$ are known:\n",
    "\n",
    "$$ p_y(y) \\simeq p_x(x)\\frac{\\delta_x}{\\delta_y} $$\n",
    "\n",
    "Since $x = g^{-1}(y)$, we replace $\\delta_x$ by $\\delta g^{-1}(y)$:\n",
    "\n",
    "$$ p_y(y) \\simeq p_x(x)\\frac{\\delta g^{-1}(y)}{\\delta_y} = p_x(g^{-1}(y))[g^{-1}(y)]' $$\n",
    "\n",
    "For the example, $g^{-1}(y)$ is the inverse of $exp(x)$, which is $ln(y)$, and since $p(x)$ is normal:\n",
    "\n",
    "$$ p_x(x)[g^{-1}(y)]' = p_x(x)[ln(y)]' = p_x(ln(y))\\frac{1}{y} = \\frac{1}{y\\sqrt{2\\pi\\sigma^2}}e^{-(ln(y)-\\mu)^2 / 2\\sigma^2}$$\n",
    "\n",
    "where, in this example, $\\mu=0, \\sigma^2=0.25^2$"
   ]
  },
  {
   "cell_type": "code",
   "execution_count": 41,
   "metadata": {
    "collapsed": false
   },
   "outputs": [
    {
     "data": {
      "text/plain": [
       "[<matplotlib.lines.Line2D at 0x7fa9f97d2400>]"
      ]
     },
     "execution_count": 41,
     "metadata": {},
     "output_type": "execute_result"
    },
    {
     "data": {
      "image/png": "[encoded data removed]",
      "text/plain": [
       "<matplotlib.figure.Figure at 0x7fa9f9889e48>"
      ]
     },
     "metadata": {},
     "output_type": "display_data"
    }
   ],
   "source": [
    "from math import sqrt, pi, exp, log\n",
    "\n",
    "def p_y(y, mu=mu, sigma2=sigma2):\n",
    "    return (1/y*sqrt(2*pi*sigma2))*exp(-(log(y)-mu)**2/(2*sigma2))\n",
    "\n",
    "x = np.linspace(0.001, 3, 10000)\n",
    "plt.plot(x, [p_y(i) for i in x])"
   ]
  },
  {
   "cell_type": "markdown",
   "metadata": {},
   "source": [
    "### 1.2.5 Curve fitting revisited"
   ]
  },
  {
   "cell_type": "code",
   "execution_count": 38,
   "metadata": {
    "collapsed": false
   },
   "outputs": [
    {
     "data": {
      "text/plain": [
       "0.0625"
      ]
     },
     "execution_count": 38,
     "metadata": {},
     "output_type": "execute_result"
    }
   ],
   "source": [
    "0.25**2"
   ]
  },
  {
   "cell_type": "code",
   "execution_count": null,
   "metadata": {
    "collapsed": true
   },
   "outputs": [],
   "source": []
  }
 ],
 "metadata": {
  "kernelspec": {
   "display_name": "Python 3",
   "language": "python",
   "name": "python3"
  },
  "language_info": {
   "codemirror_mode": {
    "name": "ipython",
    "version": 3
   },
   "file_extension": ".py",
   "mimetype": "text/x-python",
   "name": "python",
   "nbconvert_exporter": "python",
   "pygments_lexer": "ipython3",
   "version": "3.4.5"
  }
 },
 "nbformat": 4,
 "nbformat_minor": 0
}
