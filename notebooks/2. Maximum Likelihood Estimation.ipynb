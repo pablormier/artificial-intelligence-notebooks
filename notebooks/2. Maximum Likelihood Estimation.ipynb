{
 "cells": [
  {
   "cell_type": "markdown",
   "metadata": {},
   "source": [
    "# MLE - Pattern Recognition and Machine Learning (Chapter 1)\n",
    "![Likelihoo function](img/chapter-1/mle.png)\n",
    "\n",
    "Let's suppose we have a set of observations $\\boldsymbol{x} = (x_1, \\dots, x_N)^T$, that are drawn independent and identically distributed (i.i.d) from a Gaussian distribution with unknown mean $\\mu$ and variance $\\sigma^2$"
   ]
  },
  {
   "cell_type": "code",
   "execution_count": 161,
   "metadata": {
    "collapsed": false
   },
   "outputs": [],
   "source": [
    "%matplotlib inline\n",
    "\n",
    "import numpy as np\n",
    "import matplotlib.pyplot as plt\n",
    "from scipy.stats import norm\n",
    "plt.style.use('ggplot')"
   ]
  },
  {
   "cell_type": "markdown",
   "metadata": {},
   "source": [
    "For this example, we are going to assume that the unknown parameters are $\\mu=2$ and $\\sigma^2=25$"
   ]
  },
  {
   "cell_type": "code",
   "execution_count": 176,
   "metadata": {
    "collapsed": false
   },
   "outputs": [
    {
     "data": {
      "text/plain": [
       "array([  2.24388386,   4.44079436,  10.12763267,  -0.64359965,\n",
       "         4.66412924,   0.93560513,  -4.87424755,   4.77089392,\n",
       "        -0.83096561,   1.88630182,  -2.27340773,  -1.67219603,\n",
       "         1.18233192,   0.76674865,  -2.34038173,   6.41321722,\n",
       "        -0.9625637 ,  -1.48483921,   3.76507749,   4.34738466,\n",
       "        -2.61642667,  13.8799776 ,  11.77224658,   6.29051069,\n",
       "         7.37954633,  -1.74216964,   3.70251918,   0.97797442,\n",
       "         9.2169019 ,  -6.43083462,   7.20559589,   5.70731054,\n",
       "         6.11357789,  -2.28122543,   4.78819877,  -0.84806455,\n",
       "        -3.57309176,  -3.39605143,  12.92145107,  -0.11498832,\n",
       "        -7.39858527,   9.47416215,   5.42640592,   2.19836694,\n",
       "        -1.57987785,   6.13778994,   7.45767653,  -3.52190824,\n",
       "         5.35171608,   0.8646666 ,   6.49219107,   7.00232584,\n",
       "        -3.28814869,  -6.1716968 ,  -6.02309387,   8.39721035,\n",
       "         8.14467634,   1.60136401,   1.53487789,  16.38725117,\n",
       "         7.7852864 ,  -1.54295515,   1.52869054,  -3.52775577,\n",
       "         9.39033266,   8.00218889,   4.98022578,   5.21622244,\n",
       "         5.86036793,   3.08545592,  -3.46316212,  -0.64299931,\n",
       "         4.48850521,   1.79212558,  -9.04333881,   4.29313572,\n",
       "         4.13338663,  -1.9708023 ,   4.84346311,  -5.15069174,\n",
       "         3.11784786,   3.03222473,  -0.09539382,   5.45025772,\n",
       "        -0.77528834,   1.79530046,   1.31769979,  -3.10627909,\n",
       "         1.39731328,   3.53306583, -10.96478617,   7.97025343,\n",
       "         6.54573874,   7.55183476,   3.04148863,   9.61961142,\n",
       "         7.84141184,  14.27266737,   6.04905496,   1.58601339])"
      ]
     },
     "execution_count": 176,
     "metadata": {},
     "output_type": "execute_result"
    }
   ],
   "source": [
    "# Unknown parameters\n",
    "mu = 2\n",
    "sd = 5\n",
    "variance = sd**2\n",
    "####################\n",
    "\n",
    "\n",
    "# Let's get an iid sample, N = 100\n",
    "x = np.random.normal(mu, sd, 100)\n",
    "x"
   ]
  },
  {
   "cell_type": "code",
   "execution_count": 177,
   "metadata": {
    "collapsed": false
   },
   "outputs": [
    {
     "data": {
      "text/plain": [
       "[<matplotlib.lines.Line2D at 0x7effa219aa58>]"
      ]
     },
     "execution_count": 177,
     "metadata": {},
     "output_type": "execute_result"
    },
    {
     "data": {
      "image/png": "[encoded data removed]",
      "text/plain": [
       "<matplotlib.figure.Figure at 0x7effa22230f0>"
      ]
     },
     "metadata": {},
     "output_type": "display_data"
    }
   ],
   "source": [
    "x_axis = np.linspace(-20, 20, 1000)\n",
    "\n",
    "# Plot real (unknown) distribution together with the i.i.d sample\n",
    "plt.figure(figsize=(12, 5))\n",
    "plt.plot(x_axis, norm.pdf(x_axis, mu, sd))\n",
    "plt.plot(x, [0.001] * len(x), 'o')"
   ]
  },
  {
   "cell_type": "markdown",
   "metadata": {},
   "source": [
    "The probability of two independent events $X, Y$ is given by the product of their marginals, i.e., $p(X,Y)=P(X)P(Y)$. Since each $x_n \\in \\boldsymbol{x}$ is independent, the probability of $p(x_1,\\dots,x_N)$ is calculated as $p(x_1)\\times p(x_2)\\times \\dots p(x_N)$, where $p(x_n)=\\mathcal{N}(x_n\\mid \\mu,\\sigma^2)$ since each $x_n$ comes from a normal distribution. This can be expressed as:\n",
    "\n",
    "$$ p(\\boldsymbol{x} \\mid \\mu, \\sigma^2) = \\prod_{n=1}^N \\mathcal{N}(x_n \\mid \\mu, \\sigma^2) = \\prod_{n=1}^N \\frac{1}{\\sqrt{2\\pi \\sigma^2}}exp(-(x_n-\\mu)^2/2\\sigma^2)$$\n",
    "\n",
    "where $p(\\boldsymbol{x} \\mid \\mu, \\sigma^2)$ is the **likelihood function** of $\\boldsymbol{x}$. However, we can't calculate the value of the likelihood function since the parameters of the distribution are unknown ($\\mu, \\sigma^2$). But using the sample $\\boldsymbol{x}$, we can try to estimate these parameters by looking for the values of the parameters that maximize the likelihood function. This is called **Maximum Likelihood Estimation (MLE)**, and can be easily calculated analytically in this case. But before calculating the exact value of the MLE estimations for $\\mu$ and $\\sigma^2$, let's try a bruteforce approach first. The idea would be this:\n",
    "\n",
    "* 1 - Implement the likelihood function in python\n",
    "* 2 - Use a general optimization method to find the values for $\\mu$ and $\\sigma^2$ (f*ck you maths)\n"
   ]
  },
  {
   "cell_type": "code",
   "execution_count": 163,
   "metadata": {
    "collapsed": true
   },
   "outputs": [],
   "source": [
    "def likelihood(x, mu, sigma2):\n",
    "    probs = (1/(2*np.pi*sigma2))*np.exp(-((x-mu)**2)/(2*sigma2))\n",
    "    return np.prod(probs)"
   ]
  },
  {
   "cell_type": "markdown",
   "metadata": {},
   "source": [
    "Now we can calculate the likelihood of the sample for different values of $\\mu$ and $\\sigma^2$. Let's see what happens for different values"
   ]
  },
  {
   "cell_type": "code",
   "execution_count": 164,
   "metadata": {
    "collapsed": false
   },
   "outputs": [
    {
     "name": "stdout",
     "output_type": "stream",
     "text": [
      "0.0\n",
      "1.28318647006e-238\n",
      "1.02675270279e-296\n",
      "0.0\n"
     ]
    }
   ],
   "source": [
    "print(likelihood(x, 0, 1))\n",
    "print(likelihood(x, 2, 25))\n",
    "print(likelihood(x, 10, 100))\n",
    "print(likelihood(x, 10, 100000))"
   ]
  },
  {
   "cell_type": "markdown",
   "metadata": {},
   "source": [
    "Wait! something looks wrong. The values we get are very small, and there are some 0's for different values of $\\mu$ and $\\sigma^2$. Well, let's ignore this for a moment. Remember, we want to find the values that maximize the likelihood function. To do so, we can use differential evolution as our first brute force attemp to find some values. [Differential evolution](http://www1.icsi.berkeley.edu/~storn/code.html) is a beautiful general purpose optimization algorithm that is included in [SciPy](https://docs.scipy.org/doc/scipy-0.18.1/reference/generated/scipy.optimize.differential_evolution.html). This algorithm **minimizes** a given function by looking for different values of the parameters of the function within some provided bounds. Note that maximizing a function $f(x)$ is equal to minimizing the function $-f(x)$, and since we are interested in maximizing the likelihood function, we can define an error function that just returns the negative of the likelihood:"
   ]
  },
  {
   "cell_type": "code",
   "execution_count": 172,
   "metadata": {
    "collapsed": false
   },
   "outputs": [
    {
     "data": {
      "text/plain": [
       "     fun: -1.232703101582344e-229\n",
       " message: 'Optimization terminated successfully.'\n",
       "    nfev: 63\n",
       "     nit: 1\n",
       " success: True\n",
       "       x: array([  3.03657142,  16.53659729])"
      ]
     },
     "execution_count": 172,
     "metadata": {},
     "output_type": "execute_result"
    }
   ],
   "source": [
    "from scipy.optimize import differential_evolution\n",
    "\n",
    "# Let's find mu using values between -100 and 100, and sigma2 between 0.01 and 100\n",
    "bounds = [[-100., 100.], [0.01, 100.]]\n",
    "\n",
    "def error(values):\n",
    "    mu, sigma = values\n",
    "    # We want to maximize the likelihood, which is equivalent to minimize\n",
    "    # the -likelihood\n",
    "    return -likelihood(x, mu, sigma)\n",
    "\n",
    "differential_evolution(error, bounds)"
   ]
  },
  {
   "cell_type": "markdown",
   "metadata": {},
   "source": [
    "The solution that we obtain with this is not close to the real values we expect to obtain. Also, every time we run this we obtain different and incorrect solution. Why is that? The problem is in the multiplication in the likelihood function, since when we multiply many big or small numbers the result produces a floating point overflow. One way to fix this is transforming the product into a summation by applying the log function, and maximizing the log-likelihood function instead of the likelihood function. The parameters that maximize the log-likelihood are the same for the original likelihood function. Why? [Wikipedia](https://en.wikipedia.org/wiki/Likelihood_function#Log-likelihood) explains this quite well:\n",
    "\n",
    "> For many applications, the natural logarithm of the likelihood function, called the log-likelihood, is more convenient to work with. **Because the logarithm is a monotonically increasing function, the logarithm of a function achieves its maximum value at the same points as the function itself**, and hence the log-likelihood can be used in place of the likelihood in maximum likelihood estimation and related techniques. Finding the maximum of a function often involves taking the derivative of a function and solving for the parameter being maximized, and this is often easier when the function being maximized is a log-likelihood rather than the original likelihood function.\n",
    "\n",
    "We need some basic calculus to obtain the log-likelihood. Let's do it!\n",
    "\n",
    "$$ log(p(\\boldsymbol{x} \\mid \\mu, \\sigma^2)) = log\\Bigg(\\prod_{n=1}^N \\frac{1}{\\sqrt{2\\pi \\sigma^2}}exp(-(x_n-\\mu)^2/2\\sigma^2)\\Bigg) = \\sum_{n=1}^N log \\Bigg( \\frac{1}{\\sqrt{2\\pi \\sigma^2}}exp(-(x_n-\\mu)^2/2\\sigma^2) \\Bigg) = $$\n",
    "\n",
    "$$ = \\sum_{n=1}^N \\Bigg(log \\Big(\\frac{1}{\\sqrt{2\\pi \\sigma^2}}\\Big) -(x_n-\\mu)^2/2\\sigma^2 \\Bigg) = \\sum_{n=1}^N \\Bigg(log(1) - log((2\\pi \\sigma^2)^{1/2}) -(x_n-\\mu)^2/2\\sigma^2 \\Bigg) = $$\n",
    "\n",
    "$$ = -\\sum_{n=1}^N (x_n - \\mu)^2/2\\sigma^2 - \\frac{N}{2}log(2\\pi\\sigma^2) = -\\frac{1}{2\\sigma^2}\\sum_{n=1}^N (x_n-\\mu)^2 - \\frac{N}{2}log(\\sigma^2)-\\frac{N}{2}log(2\\pi) $$\n",
    "\n",
    "Now that we know the expression of the log-likelihood, we can implement it with Python and find the parameters using the same strategy"
   ]
  },
  {
   "cell_type": "code",
   "execution_count": 174,
   "metadata": {
    "collapsed": false
   },
   "outputs": [
    {
     "data": {
      "text/plain": [
       "     fun: 201.28466940784182\n",
       "     jac: array([ 0.,  0.])\n",
       " message: 'Optimization terminated successfully.'\n",
       "    nfev: 381\n",
       "     nit: 11\n",
       " success: True\n",
       "       x: array([  2.6610744 ,  20.60828806])"
      ]
     },
     "execution_count": 174,
     "metadata": {},
     "output_type": "execute_result"
    }
   ],
   "source": [
    "def loglikelihood(x, mu, sigma2):\n",
    "    return -(1/(2*sigma2))*np.sum((x-mu)**2) - (1/2)*len(x)*np.log(sigma2)\n",
    "\n",
    "def error2(values):\n",
    "    mu, sigma = values\n",
    "    # We want to maximize the likelihood, which is equivalent to minimize\n",
    "    # the -likelihood\n",
    "    return -loglikelihood(x, mu, sigma)\n",
    "\n",
    "differential_evolution(error2, bounds)"
   ]
  },
  {
   "cell_type": "markdown",
   "metadata": {},
   "source": [
    "Interestingly (or not?), the values for $\\mu$ and $\\sigma^2$ that we obtained correspond with the mean and the variance of the sample $\\boldsymbol{x}$. Let's check this:"
   ]
  },
  {
   "cell_type": "code",
   "execution_count": 175,
   "metadata": {
    "collapsed": false
   },
   "outputs": [
    {
     "data": {
      "text/plain": [
       "(2.6610741209244009, 20.608289301975191)"
      ]
     },
     "execution_count": 175,
     "metadata": {},
     "output_type": "execute_result"
    }
   ],
   "source": [
    "np.mean(x), np.std(x)**2"
   ]
  },
  {
   "cell_type": "markdown",
   "metadata": {},
   "source": [
    "This should mean that the MLE estimators for $\\mu$ and $\\sigma^2$ are:\n",
    "\n",
    "* $ \\hat{\\mu}_{MLE} = \\frac{\\sum_{n=1}^N x_n}{N} $\n",
    "* $ \\hat{\\sigma}^2_{MLE} = \\frac{\\sum (x_n - \\bar{x})^2}{N}$\n",
    "\n",
    "Is this right? We'll need more maths to check this. We can obtain the exact values by taking the derivative of the log-likelihood and setting to 0:\n",
    "\n",
    "$$\\frac{\\partial}{\\partial \\mu}log(p(\\boldsymbol{x} \\mid \\mu, \\sigma^2)) = -\\frac{1}{2\\sigma^2}\\frac{\\partial}{\\partial \\mu}\\sum_{n=1}^N(x_n - \\mu)^2 - \\underbrace{ \\frac{\\partial}{\\partial \\mu} \\frac{N}{2}log(\\sigma^2) }_{\\text{constant}} - \\underbrace{\\frac{\\partial}{\\partial \\mu}\\frac{N}{2}log(2\\pi)}_{\\text{constant}}$$ \n",
    "\n",
    "Since $\\frac{\\partial}{\\partial x}$ is a linear map, $\\frac{\\partial}{\\partial x}\\sum f(x) = \\sum \\frac{\\partial}{\\partial x} f(x)$, hence:\n",
    "\n",
    "$$-\\frac{1}{2\\sigma^2}\\frac{\\partial}{\\partial \\mu}\\sum_{n=1}^N(x_n - \\mu)^2 = -\\frac{1}{2\\sigma^2} \\sum \\underbrace{\\frac{\\partial}{\\partial \\mu} (x_n - \\mu)^2}_{\\text{chain rule}} = -\\frac{1}{2\\sigma^2} \\sum 2(x_n - \\mu)(-1) = \\frac{1}{\\sigma^2}\\sum_{n=1}^N (x_n - \\mu)$$\n",
    "\n",
    "Setting the expression to 0:\n",
    "\n",
    "$$ \\frac{1}{\\sigma^2}\\sum_{n=1}^N (x_n - \\mu) = 0 \\implies \\sum_{n=1}^N(x_n - \\mu) = 0 \\implies \\sum_{n=1}^N x_n - \\underbrace{\\sum_{n=1}^N \\mu}_{N\\mu} = 0 \\implies \\mu = \\frac{\\sum_{n=1}^N x_n}{N}$$ "
   ]
  }
 ],
 "metadata": {
  "kernelspec": {
   "display_name": "Python 3",
   "language": "python",
   "name": "python3"
  },
  "language_info": {
   "codemirror_mode": {
    "name": "ipython",
    "version": 3
   },
   "file_extension": ".py",
   "mimetype": "text/x-python",
   "name": "python",
   "nbconvert_exporter": "python",
   "pygments_lexer": "ipython3",
   "version": "3.4.4"
  }
 },
 "nbformat": 4,
 "nbformat_minor": 0
}
